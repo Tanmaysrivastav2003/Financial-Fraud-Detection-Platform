{
 "cells": [
  {
   "cell_type": "code",
   "execution_count": 1,
   "id": "07e572e4",
   "metadata": {},
   "outputs": [],
   "source": [
    "from faker import Faker\n",
    "import pandas as pd\n",
    "import random"
   ]
  },
  {
   "cell_type": "code",
   "execution_count": 2,
   "id": "21af4145",
   "metadata": {},
   "outputs": [
    {
     "name": "stdout",
     "output_type": "stream",
     "text": [
      "Total records generated: 20000\n",
      "\n",
      "Successfully saved 'synthetic_bank_data.csv' to the '../data/' folder.\n"
     ]
    }
   ],
   "source": [
    "\n",
    "\n",
    "# Initialize Faker and set seed for reproducibility\n",
    "Faker.seed(42)\n",
    "random.seed(42)\n",
    "fake = Faker()\n",
    "\n",
    "# --- Corrected Duplicate Phone Number Generation Logic ---\n",
    "\n",
    "# Define total records and the ratio of duplicates desired\n",
    "num_records = 20000\n",
    "duplicates_ratio = 0.3\n",
    "\n",
    "# Calculate the number of unique and duplicate phone numbers to generate\n",
    "num_unique = int(num_records * (1 - duplicates_ratio))\n",
    "num_duplicates = num_records - num_unique\n",
    "\n",
    "# Generate a base of unique phone numbers\n",
    "unique_phones = [fake.phone_number() for _ in range(num_unique)]\n",
    "\n",
    "# Create the list of duplicates by randomly sampling from the unique list\n",
    "# 'random.choices' is used as it allows for sampling with replacement\n",
    "duplicate_phones = random.choices(unique_phones, k=num_duplicates)\n",
    "\n",
    "# Combine the unique and duplicate lists to create the final list\n",
    "final_phone_list = unique_phones + duplicate_phones\n",
    "\n",
    "# Shuffle the list to ensure duplicates are randomly distributed\n",
    "random.shuffle(final_phone_list)\n",
    "\n",
    "# --- Generate Other User Data ---\n",
    "\n",
    "names = [fake.name() for _ in range(num_records)]\n",
    "emails = [fake.email() for _ in range(num_records)]\n",
    "bank_account_numbers = [fake.credit_card_number(card_type='mastercard') for _ in range(num_records)]\n",
    "\n",
    "# Create the final Pandas DataFrame\n",
    "df = pd.DataFrame({\n",
    "    'Name': names,\n",
    "    'Phone Number': final_phone_list,\n",
    "    'Email': emails,\n",
    "    'Bank Account Number': bank_account_numbers,\n",
    "})\n",
    "\n",
    "# Print the length to confirm it's correct\n",
    "print(f\"Total records generated: {len(df)}\")\n",
    "\n",
    "# Save the dataset to the correct local data folder\n",
    "df.to_csv('../data/synthetic_bank_data.csv', index=False)\n",
    "\n",
    "print(\"\\nSuccessfully saved 'synthetic_bank_data.csv' to the '../data/' folder.\")"
   ]
  }
 ],
 "metadata": {
  "kernelspec": {
   "display_name": "venv",
   "language": "python",
   "name": "python3"
  },
  "language_info": {
   "codemirror_mode": {
    "name": "ipython",
    "version": 3
   },
   "file_extension": ".py",
   "mimetype": "text/x-python",
   "name": "python",
   "nbconvert_exporter": "python",
   "pygments_lexer": "ipython3",
   "version": "3.13.5"
  }
 },
 "nbformat": 4,
 "nbformat_minor": 5
}
