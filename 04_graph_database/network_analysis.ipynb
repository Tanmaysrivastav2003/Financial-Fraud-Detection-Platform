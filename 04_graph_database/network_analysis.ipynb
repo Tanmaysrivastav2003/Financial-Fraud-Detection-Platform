{
 "cells": [
  {
   "cell_type": "code",
   "execution_count": 2,
   "id": "0a764c1c",
   "metadata": {},
   "outputs": [],
   "source": [
    "import pandas as pd\n",
    "from pyvis.network import Network\n",
    "import os\n",
    "\n",
    "# Settings for the graph visualization\n",
    "net = Network(height=\"750px\", width=\"100%\", bgcolor=\"#222222\", font_color=\"white\", notebook=True, cdn_resources='in_line')\n",
    "net.barnes_hut()"
   ]
  },
  {
   "cell_type": "code",
   "execution_count": 3,
   "id": "97671138",
   "metadata": {},
   "outputs": [
    {
     "name": "stdout",
     "output_type": "stream",
     "text": [
      "Data loaded successfully.\n",
      "Working with a sample of 100 records.\n"
     ]
    }
   ],
   "source": [
    "# Construct the path to the data file\n",
    "data_path = '../data/synthetic_bank_data.csv'\n",
    "\n",
    "# Load the data\n",
    "try:\n",
    "    df = pd.read_csv(data_path)\n",
    "    # Let's work with a smaller, manageable sample to create a clear graph\n",
    "    sample_df = df.head(100)\n",
    "    print(\"Data loaded successfully.\")\n",
    "    print(f\"Working with a sample of {len(sample_df)} records.\")\n",
    "except FileNotFoundError:\n",
    "    print(f\"Error: Data file not found at {data_path}\")"
   ]
  },
  {
   "cell_type": "code",
   "execution_count": 4,
   "id": "2823131c",
   "metadata": {},
   "outputs": [
    {
     "name": "stdout",
     "output_type": "stream",
     "text": [
      "Graph construction complete.\n"
     ]
    }
   ],
   "source": [
    "# --- Find relationships based on shared phone numbers ---\n",
    "# Group the dataframe by 'Phone Number' to find users who share one\n",
    "grouped = sample_df.groupby('Phone Number')['Name'].apply(list)\n",
    "\n",
    "# --- Populate the pyvis network ---\n",
    "for phone_number, user_list in grouped.items():\n",
    "    # Add the shared phone number as a central node\n",
    "    # We make these nodes bigger and a different color to stand out\n",
    "    if len(user_list) > 1: # Only add phone numbers that are actually shared\n",
    "        net.add_node(phone_number, label=phone_number, color='#00ff00', size=25)\n",
    "        \n",
    "        # Add each user connected to that phone number\n",
    "        for user_name in user_list:\n",
    "            net.add_node(user_name, label=user_name, color='#16a085', size=15)\n",
    "            net.add_edge(user_name, phone_number)\n",
    "            \n",
    "print(\"Graph construction complete.\")"
   ]
  },
  {
   "cell_type": "code",
   "execution_count": 6,
   "id": "8b857c11",
   "metadata": {},
   "outputs": [
    {
     "name": "stdout",
     "output_type": "stream",
     "text": [
      "\n",
      "Interactive graph has been saved to:\n",
      "c:\\Users\\Tanmay Srivastav\\Desktop\\PROJECTS\\financial-fraud-detection-platform\\04_graph_database\\fraud_ring_visualization.html\n",
      "\n",
      "Open this file in your web browser to see the network.\n"
     ]
    }
   ],
   "source": [
    "import os\n",
    "\n",
    "# Define the output file path\n",
    "output_filename = 'fraud_ring_visualization.html'\n",
    "\n",
    "# --- The Fix: Manually save the HTML with UTF-8 encoding ---\n",
    "# We get the generated HTML from the 'html' attribute of our network object\n",
    "html_content = net.html\n",
    "\n",
    "# We open the output file and explicitly tell it to use 'utf-8'\n",
    "with open(output_filename, \"w+\", encoding=\"utf-8\") as out:\n",
    "    out.write(html_content)\n",
    "\n",
    "# Get the full path for the output message\n",
    "full_path = os.path.abspath(output_filename)\n",
    "\n",
    "print(f\"\\nInteractive graph has been saved to:\")\n",
    "print(full_path)\n",
    "print(\"\\nOpen this file in your web browser to see the network.\")"
   ]
  },
  {
   "cell_type": "code",
   "execution_count": null,
   "id": "66096b0a",
   "metadata": {},
   "outputs": [],
   "source": []
  }
 ],
 "metadata": {
  "kernelspec": {
   "display_name": "venv",
   "language": "python",
   "name": "python3"
  },
  "language_info": {
   "codemirror_mode": {
    "name": "ipython",
    "version": 3
   },
   "file_extension": ".py",
   "mimetype": "text/x-python",
   "name": "python",
   "nbconvert_exporter": "python",
   "pygments_lexer": "ipython3",
   "version": "3.13.5"
  }
 },
 "nbformat": 4,
 "nbformat_minor": 5
}
